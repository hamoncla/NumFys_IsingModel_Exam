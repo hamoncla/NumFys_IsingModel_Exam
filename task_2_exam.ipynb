{
 "cells": [
  {
   "cell_type": "code",
   "execution_count": 24,
   "id": "5db9e2b8",
   "metadata": {},
   "outputs": [],
   "source": [
    "import numpy as np\n",
    "from math import factorial, sqrt"
   ]
  },
  {
   "cell_type": "code",
   "execution_count": 3,
   "id": "c4aa1ad7",
   "metadata": {},
   "outputs": [
    {
     "name": "stdout",
     "output_type": "stream",
     "text": [
      "Type of x1 and y1 is <class 'numpy.float32'>: z = 0.0\n",
      "Type of x2 and y2 is <class 'numpy.float64'>: z = 1.0\n",
      "Type of x3 and y3 is <class 'numpy.longdouble'>: z = 1.0\n"
     ]
    }
   ],
   "source": [
    "# Task 2.a\n",
    "x1 = np.single(10**8)\n",
    "x2 = np.double(10**8)\n",
    "x3 = np.longdouble(10**8)\n",
    "\n",
    "y1 = np.single(1.0)\n",
    "y2 = np.double(1.0)\n",
    "y3 = np.longdouble(1.0)\n",
    "\n",
    "print(f'Type of x1 and y1 is {type(x1)}: z = {(x1 + y1) - x1}')\n",
    "print(f'Type of x2 and y2 is {type(x2)}: z = {(x2 + y2) - x2}')\n",
    "print(f'Type of x3 and y3 is {type(x3)}: z = {(x3 + y3) - x3}')"
   ]
  },
  {
   "cell_type": "code",
   "execution_count": 4,
   "id": "499cbedb",
   "metadata": {},
   "outputs": [
    {
     "name": "stdout",
     "output_type": "stream",
     "text": [
      "0.1 + 0.2 == 0.3: False\n",
      "np.isclose(0.1 + 0.2, 0.3): True\n"
     ]
    }
   ],
   "source": [
    "# Task 2.b\n",
    "a = 0.1 + 0.2\n",
    "b = 0.3\n",
    "\n",
    "print(f'0.1 + 0.2 == 0.3: {a == b}')\n",
    "\n",
    "print(f'np.isclose(0.1 + 0.2, 0.3): {np.isclose(a, b)}') # Workaround for floating point comparison, can choose tolerances."
   ]
  },
  {
   "cell_type": "code",
   "execution_count": null,
   "id": "9c3fe6b1",
   "metadata": {},
   "outputs": [
    {
     "name": "stdout",
     "output_type": "stream",
     "text": [
      "x_new: 1.0\n",
      "y: 1.0000000001\n"
     ]
    }
   ],
   "source": [
    "# Task 2.c\n",
    "x0 = 1.0\n",
    "y = 1.0 + 10**6 * 10**-16\n",
    "delta_x = 10**-16\n",
    "\n",
    "def add_to_x(x0, delta_x):\n",
    "    for _ in range(10**6):\n",
    "        x0 += delta_x\n",
    "    return x0\n",
    "\n",
    "x_new = add_to_x(x0, delta_x)\n",
    "\n",
    "print(f\"x_new: {x_new}\")\n",
    "print(f\"y: {y}\")\n",
    "\n",
    "# Can fix by first summing all delta_x and then adding to x0\n",
    "# Or by using a higher precision type for x and delta_x"
   ]
  },
  {
   "cell_type": "code",
   "execution_count": 18,
   "id": "b331bcdd",
   "metadata": {},
   "outputs": [
    {
     "ename": "OverflowError",
     "evalue": "int too large to convert to float",
     "output_type": "error",
     "traceback": [
      "\u001b[0;31m---------------------------------------------------------------------------\u001b[0m",
      "\u001b[0;31mOverflowError\u001b[0m                             Traceback (most recent call last)",
      "Cell \u001b[0;32mIn[18], line 3\u001b[0m\n\u001b[1;32m      1\u001b[0m \u001b[38;5;66;03m# Task 2.d\u001b[39;00m\n\u001b[1;32m      2\u001b[0m fact_170 \u001b[38;5;241m=\u001b[39m \u001b[38;5;28mfloat\u001b[39m(factorial(\u001b[38;5;241m170\u001b[39m))\n\u001b[0;32m----> 3\u001b[0m fact_171 \u001b[38;5;241m=\u001b[39m \u001b[38;5;28;43mfloat\u001b[39;49m\u001b[43m(\u001b[49m\u001b[43mfactorial\u001b[49m\u001b[43m(\u001b[49m\u001b[38;5;241;43m171\u001b[39;49m\u001b[43m)\u001b[49m\u001b[43m)\u001b[49m\n\u001b[1;32m      5\u001b[0m \u001b[38;5;28mprint\u001b[39m(\u001b[38;5;124mf\u001b[39m\u001b[38;5;124m\"\u001b[39m\u001b[38;5;124mfactorial(170): \u001b[39m\u001b[38;5;132;01m{\u001b[39;00mfact_170\u001b[38;5;132;01m}\u001b[39;00m\u001b[38;5;124m\"\u001b[39m)\n\u001b[1;32m      6\u001b[0m \u001b[38;5;28mprint\u001b[39m(\u001b[38;5;124mf\u001b[39m\u001b[38;5;124m\"\u001b[39m\u001b[38;5;124mfactorial(171): \u001b[39m\u001b[38;5;132;01m{\u001b[39;00mfact_171\u001b[38;5;132;01m}\u001b[39;00m\u001b[38;5;124m\"\u001b[39m)\n",
      "\u001b[0;31mOverflowError\u001b[0m: int too large to convert to float"
     ]
    }
   ],
   "source": [
    "# Task 2.d\n",
    "fact_170 = float(factorial(170))\n",
    "fact_171 = float(factorial(171))\n",
    "\n",
    "print(f\"factorial(170): {fact_170}\")\n",
    "print(f\"factorial(171): {fact_171}\")"
   ]
  },
  {
   "cell_type": "code",
   "execution_count": 27,
   "id": "c69d54aa",
   "metadata": {},
   "outputs": [
    {
     "ename": "OverflowError",
     "evalue": "int too large to convert to float",
     "output_type": "error",
     "traceback": [
      "\u001b[0;31m---------------------------------------------------------------------------\u001b[0m",
      "\u001b[0;31mOverflowError\u001b[0m                             Traceback (most recent call last)",
      "Cell \u001b[0;32mIn[27], line 4\u001b[0m\n\u001b[1;32m      1\u001b[0m fact_170 \u001b[38;5;241m=\u001b[39m factorial(\u001b[38;5;241m170\u001b[39m)\n\u001b[1;32m      2\u001b[0m fact_171 \u001b[38;5;241m=\u001b[39m factorial(\u001b[38;5;241m171\u001b[39m)\n\u001b[0;32m----> 4\u001b[0m diff \u001b[38;5;241m=\u001b[39m \u001b[38;5;28;43mfloat\u001b[39;49m\u001b[43m(\u001b[49m\u001b[43mfact_171\u001b[49m\u001b[43m \u001b[49m\u001b[38;5;241;43m-\u001b[39;49m\u001b[43m \u001b[49m\u001b[43mfact_170\u001b[49m\u001b[43m)\u001b[49m\n",
      "\u001b[0;31mOverflowError\u001b[0m: int too large to convert to float"
     ]
    }
   ],
   "source": [
    "fact_170 = factorial(170)\n",
    "fact_171 = factorial(171)\n",
    "\n",
    "diff = float(fact_171 - fact_170)"
   ]
  },
  {
   "cell_type": "code",
   "execution_count": 22,
   "id": "87dae21f",
   "metadata": {},
   "outputs": [
    {
     "name": "stdout",
     "output_type": "stream",
     "text": [
      "Difference: inf\n"
     ]
    }
   ],
   "source": [
    "difference = float(factorial(170)) * 170\n",
    "print(f\"Difference: {difference}\")"
   ]
  },
  {
   "cell_type": "code",
   "execution_count": null,
   "id": "12fdfcbc",
   "metadata": {},
   "outputs": [
    {
     "name": "stdout",
     "output_type": "stream",
     "text": [
      "5.000444502911705e-13\n",
      "5.000444502910455e-13\n"
     ]
    }
   ],
   "source": [
    "# Task 2.e\n",
    "a = 1.0000000000010\n",
    "b = 1.0\n",
    "\n",
    "print(f'{sqrt(a) - sqrt(b)}')\n",
    "\n",
    "print(f'{(a - b) / (sqrt(a) + sqrt(b))}')"
   ]
  },
  {
   "cell_type": "code",
   "execution_count": null,
   "id": "70b68bbc",
   "metadata": {},
   "outputs": [],
   "source": []
  }
 ],
 "metadata": {
  "kernelspec": {
   "display_name": "numfys2025",
   "language": "python",
   "name": "python3"
  },
  "language_info": {
   "codemirror_mode": {
    "name": "ipython",
    "version": 3
   },
   "file_extension": ".py",
   "mimetype": "text/x-python",
   "name": "python",
   "nbconvert_exporter": "python",
   "pygments_lexer": "ipython3",
   "version": "3.12.8"
  }
 },
 "nbformat": 4,
 "nbformat_minor": 5
}
